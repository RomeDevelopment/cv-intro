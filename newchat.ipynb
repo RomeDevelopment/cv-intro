{
 "cells": [
  {
   "cell_type": "code",
   "execution_count": null,
   "metadata": {},
   "outputs": [],
   "source": [
    "def Line_drawer(image):\n",
    "    \n",
    "    img = cv2.imread(f'{image}')\n",
    "    gray = cv2.cvtColor(img, cv2.COLOR_BGR2GRAY) # convert to grayscale\n",
    "    edges = cv2.Canny(gray, 40, 110, apertureSize=3) # detect edges\n",
    "    \n",
    "    slope_list=[]\n",
    "    line_list=[]\n",
    "    color_order=[(0,255,0),(0,0,255),(255,0,0),(100,100,100),(0,0,0),(150,30,90),(180,50,20)]\n",
    "    i=0\n",
    "    j=0\n",
    "\n",
    "    lines = cv2.HoughLinesP(\n",
    "                img,\n",
    "                7,\n",
    "                np.pi/30,\n",
    "                50,\n",
    "                minLineLength=100,\n",
    "                maxLineGap=9,\n",
    "        ) # detect lines\n",
    "\n",
    "    for line in lines:\n",
    "        x1, y1, x2, y2 = line[0]\n",
    "        slope=(y2-y1)/(x2-x1)\n",
    "        slope_list.append(slope)\n",
    "        line_list.append(([x1,y1,x2,y2]))\n",
    "        i+=1\n",
    "        i=i%6\n",
    "        j+=1\n",
    "\n",
    "        for k in range(len(slope_list)):\n",
    "            if np.abs(slope)>.9:\n",
    "                if round(slope,2) ==round(slope_list[k],2):\n",
    "                    return(cv2.line(img,(x1,y1),(line_list[k][2],line_list[k][3]),color_order[i],10))\n",
    "                else:\n",
    "                    return(cv2.line(img, (x1, y1), (x2, y2), color_order[i], 2))\n",
    "\n"
   ]
  }
 ],
 "metadata": {
  "language_info": {
   "name": "python"
  },
  "orig_nbformat": 4
 },
 "nbformat": 4,
 "nbformat_minor": 2
}
